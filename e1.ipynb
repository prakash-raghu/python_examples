table_num = int( input("enter table number: ") )
for i in range(1, 11, 1):
    result = i * table_num
    print( i, " * ", table_num, " = ", result)
