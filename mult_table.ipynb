{
  "nbformat": 4,
  "nbformat_minor": 0,
  "metadata": {
    "colab": {
      "provenance": [],
      "authorship_tag": "ABX9TyNdVIPOLAMEEdjDr6wboCDE",
      "include_colab_link": true
    },
    "kernelspec": {
      "name": "python3",
      "display_name": "Python 3"
    },
    "language_info": {
      "name": "python"
    }
  },
  "cells": [
    {
      "cell_type": "markdown",
      "metadata": {
        "id": "view-in-github",
        "colab_type": "text"
      },
      "source": [
        "<a href=\"https://colab.research.google.com/github/prakash-raghu/python_examples/blob/main/mult_table.ipynb\" target=\"_parent\"><img src=\"https://colab.research.google.com/assets/colab-badge.svg\" alt=\"Open In Colab\"/></a>"
      ]
    },
    {
      "cell_type": "code",
      "execution_count": 1,
      "metadata": {
        "colab": {
          "base_uri": "https://localhost:8080/"
        },
        "id": "WQixeTez428N",
        "outputId": "292799c0-5cc8-48c0-cb32-c6c8a2b25bed"
      },
      "outputs": [
        {
          "output_type": "stream",
          "name": "stdout",
          "text": [
            "enter table number: 5\n",
            "1  *  5  =  5\n",
            "2  *  5  =  10\n",
            "3  *  5  =  15\n",
            "4  *  5  =  20\n",
            "5  *  5  =  25\n",
            "6  *  5  =  30\n",
            "7  *  5  =  35\n",
            "8  *  5  =  40\n",
            "9  *  5  =  45\n",
            "10  *  5  =  50\n"
          ]
        }
      ],
      "source": [
        "table_num = int( input(\"enter table number: \") )\n",
        "for i in range(1, 11, 1):\n",
        "    result = i * table_num\n",
        "    print( i, \" * \", table_num, \" = \", result)"
      ]
    }
  ]
}