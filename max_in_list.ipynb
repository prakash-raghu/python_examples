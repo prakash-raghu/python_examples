{
  "nbformat": 4,
  "nbformat_minor": 0,
  "metadata": {
    "colab": {
      "provenance": [],
      "authorship_tag": "ABX9TyO0htGr7WVbPhUAm/7uMyuW"
    },
    "kernelspec": {
      "name": "python3",
      "display_name": "Python 3"
    },
    "language_info": {
      "name": "python"
    }
  },
  "cells": [
    {
      "cell_type": "code",
      "execution_count": null,
      "metadata": {
        "id": "x2CkiojW8kHb"
      },
      "outputs": [],
      "source": [
        "my_list = [ 10, 300, 50,40,700,800]\n",
        "print (\"my_list=\", my_list)\n",
        "print (\"my_list[0]=\", my_list[0])\n",
        "print(\"length of my_list =\", len(my_list))\n",
        "\n",
        "# Assuming my_list[0] is the maximum\n",
        "max = my_list[0]\n",
        "\n",
        "for data in my_list:\n",
        "    if ( data > max ):\n",
        "        max = data\n",
        "\n",
        "print (\"maximum number in the list is =\", max)\n",
        ""
      ]
    }
  ]
}