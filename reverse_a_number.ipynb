{
  "nbformat": 4,
  "nbformat_minor": 0,
  "metadata": {
    "colab": {
      "provenance": [],
      "authorship_tag": "ABX9TyO9dGWuwVVW9Hwi+kocKjL3",
      "include_colab_link": true
    },
    "kernelspec": {
      "name": "python3",
      "display_name": "Python 3"
    },
    "language_info": {
      "name": "python"
    }
  },
  "cells": [
    {
      "cell_type": "markdown",
      "metadata": {
        "id": "view-in-github",
        "colab_type": "text"
      },
      "source": [
        "<a href=\"https://colab.research.google.com/github/prakash-raghu/python_examples/blob/main/reverse_a_number.ipynb\" target=\"_parent\"><img src=\"https://colab.research.google.com/assets/colab-badge.svg\" alt=\"Open In Colab\"/></a>"
      ]
    },
    {
      "cell_type": "code",
      "execution_count": 1,
      "metadata": {
        "colab": {
          "base_uri": "https://localhost:8080/"
        },
        "id": "bfyVldet7ccY",
        "outputId": "79a6c8ae-ec60-4298-979d-5c894d478fcb"
      },
      "outputs": [
        {
          "output_type": "stream",
          "name": "stdout",
          "text": [
            "Program to find reverse a number\n",
            "Enter value for number: 1234\n",
            "reversed number is =  4\n",
            "reversed number is =  43\n",
            "reversed number is =  432\n",
            "reversed number is =  4321\n",
            "number=  1234 reversed number =  4321\n"
          ]
        }
      ],
      "source": [
        "\n",
        "rev_number = 0\n",
        "\n",
        "print(\"Program to find reverse a number\")\n",
        "\n",
        "number = int(input(\"Enter value for number: \"))\n",
        "orig_number = number\n",
        "\n",
        "while (number > 0 ):\n",
        "    last_digit = number %10\n",
        "    rev_number = rev_number * 10 + last_digit\n",
        "    print(\"reversed number is = \", rev_number)\n",
        "    number = number // 10\n",
        "\n",
        "print(\"number= \", orig_number, \"reversed number = \", rev_number)"
      ]
    }
  ]
}